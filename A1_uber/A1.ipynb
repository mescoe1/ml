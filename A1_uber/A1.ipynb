{
 "cells": [
  {
   "cell_type": "code",
   "execution_count": 1,
   "metadata": {
    "id": "IdrjhVccLLW6"
   },
   "outputs": [],
   "source": [
    "import numpy as np\n",
    "import pandas as pd\n",
    "import seaborn as sns\n",
    "\n",
    "from sklearn.model_selection import train_test_split\n",
    "from sklearn.preprocessing import StandardScaler\n",
    "from sklearn.linear_model import LinearRegression\n",
    "from sklearn.ensemble import RandomForestRegressor\n",
    "\n",
    "from sklearn.metrics import r2_score\n",
    "from sklearn.metrics import mean_absolute_error\n",
    "from sklearn.metrics import mean_squared_error\n",
    "\n",
    "import warnings\n",
    "warnings.filterwarnings('ignore')"
   ]
  },
  {
   "cell_type": "code",
   "execution_count": 2,
   "metadata": {
    "id": "xvkCwKzbLfa3"
   },
   "outputs": [],
   "source": [
    "data = pd.read_csv('uber.csv')"
   ]
  },
  {
   "cell_type": "code",
   "execution_count": 3,
   "metadata": {
    "colab": {
     "base_uri": "https://localhost:8080/",
     "height": 206
    },
    "id": "nqPTFl03Llq4",
    "outputId": "12bdd896-cf14-4b23-a4a3-068b8c6a2087"
   },
   "outputs": [
    {
     "data": {
      "text/html": [
       "<div>\n",
       "<style scoped>\n",
       "    .dataframe tbody tr th:only-of-type {\n",
       "        vertical-align: middle;\n",
       "    }\n",
       "\n",
       "    .dataframe tbody tr th {\n",
       "        vertical-align: top;\n",
       "    }\n",
       "\n",
       "    .dataframe thead th {\n",
       "        text-align: right;\n",
       "    }\n",
       "</style>\n",
       "<table border=\"1\" class=\"dataframe\">\n",
       "  <thead>\n",
       "    <tr style=\"text-align: right;\">\n",
       "      <th></th>\n",
       "      <th>Unnamed: 0</th>\n",
       "      <th>key</th>\n",
       "      <th>fare_amount</th>\n",
       "      <th>pickup_datetime</th>\n",
       "      <th>pickup_longitude</th>\n",
       "      <th>pickup_latitude</th>\n",
       "      <th>dropoff_longitude</th>\n",
       "      <th>dropoff_latitude</th>\n",
       "      <th>passenger_count</th>\n",
       "    </tr>\n",
       "  </thead>\n",
       "  <tbody>\n",
       "    <tr>\n",
       "      <th>0</th>\n",
       "      <td>24238194</td>\n",
       "      <td>2015-05-07 19:52:06.0000003</td>\n",
       "      <td>7.5</td>\n",
       "      <td>2015-05-07 19:52:06 UTC</td>\n",
       "      <td>-73.999817</td>\n",
       "      <td>40.738354</td>\n",
       "      <td>-73.999512</td>\n",
       "      <td>40.723217</td>\n",
       "      <td>1</td>\n",
       "    </tr>\n",
       "    <tr>\n",
       "      <th>1</th>\n",
       "      <td>27835199</td>\n",
       "      <td>2009-07-17 20:04:56.0000002</td>\n",
       "      <td>7.7</td>\n",
       "      <td>2009-07-17 20:04:56 UTC</td>\n",
       "      <td>-73.994355</td>\n",
       "      <td>40.728225</td>\n",
       "      <td>-73.994710</td>\n",
       "      <td>40.750325</td>\n",
       "      <td>1</td>\n",
       "    </tr>\n",
       "    <tr>\n",
       "      <th>2</th>\n",
       "      <td>44984355</td>\n",
       "      <td>2009-08-24 21:45:00.00000061</td>\n",
       "      <td>12.9</td>\n",
       "      <td>2009-08-24 21:45:00 UTC</td>\n",
       "      <td>-74.005043</td>\n",
       "      <td>40.740770</td>\n",
       "      <td>-73.962565</td>\n",
       "      <td>40.772647</td>\n",
       "      <td>1</td>\n",
       "    </tr>\n",
       "    <tr>\n",
       "      <th>3</th>\n",
       "      <td>25894730</td>\n",
       "      <td>2009-06-26 08:22:21.0000001</td>\n",
       "      <td>5.3</td>\n",
       "      <td>2009-06-26 08:22:21 UTC</td>\n",
       "      <td>-73.976124</td>\n",
       "      <td>40.790844</td>\n",
       "      <td>-73.965316</td>\n",
       "      <td>40.803349</td>\n",
       "      <td>3</td>\n",
       "    </tr>\n",
       "    <tr>\n",
       "      <th>4</th>\n",
       "      <td>17610152</td>\n",
       "      <td>2014-08-28 17:47:00.000000188</td>\n",
       "      <td>16.0</td>\n",
       "      <td>2014-08-28 17:47:00 UTC</td>\n",
       "      <td>-73.925023</td>\n",
       "      <td>40.744085</td>\n",
       "      <td>-73.973082</td>\n",
       "      <td>40.761247</td>\n",
       "      <td>5</td>\n",
       "    </tr>\n",
       "  </tbody>\n",
       "</table>\n",
       "</div>"
      ],
      "text/plain": [
       "   Unnamed: 0                            key  fare_amount  \\\n",
       "0    24238194    2015-05-07 19:52:06.0000003          7.5   \n",
       "1    27835199    2009-07-17 20:04:56.0000002          7.7   \n",
       "2    44984355   2009-08-24 21:45:00.00000061         12.9   \n",
       "3    25894730    2009-06-26 08:22:21.0000001          5.3   \n",
       "4    17610152  2014-08-28 17:47:00.000000188         16.0   \n",
       "\n",
       "           pickup_datetime  pickup_longitude  pickup_latitude  \\\n",
       "0  2015-05-07 19:52:06 UTC        -73.999817        40.738354   \n",
       "1  2009-07-17 20:04:56 UTC        -73.994355        40.728225   \n",
       "2  2009-08-24 21:45:00 UTC        -74.005043        40.740770   \n",
       "3  2009-06-26 08:22:21 UTC        -73.976124        40.790844   \n",
       "4  2014-08-28 17:47:00 UTC        -73.925023        40.744085   \n",
       "\n",
       "   dropoff_longitude  dropoff_latitude  passenger_count  \n",
       "0         -73.999512         40.723217                1  \n",
       "1         -73.994710         40.750325                1  \n",
       "2         -73.962565         40.772647                1  \n",
       "3         -73.965316         40.803349                3  \n",
       "4         -73.973082         40.761247                5  "
      ]
     },
     "execution_count": 3,
     "metadata": {},
     "output_type": "execute_result"
    }
   ],
   "source": [
    "data.head()"
   ]
  },
  {
   "cell_type": "code",
   "execution_count": 4,
   "metadata": {
    "colab": {
     "base_uri": "https://localhost:8080/",
     "height": 0
    },
    "id": "WoutVa1BLplJ",
    "outputId": "2f55c714-7984-415b-da51-5276764d3e46"
   },
   "outputs": [
    {
     "data": {
      "text/plain": [
       "(200000, 9)"
      ]
     },
     "execution_count": 4,
     "metadata": {},
     "output_type": "execute_result"
    }
   ],
   "source": [
    "data.shape"
   ]
  },
  {
   "cell_type": "markdown",
   "metadata": {
    "id": "Ix2eXYH0L06h"
   },
   "source": [
    "**DATA PREPROCESSING**"
   ]
  },
  {
   "cell_type": "code",
   "execution_count": 5,
   "metadata": {
    "colab": {
     "base_uri": "https://localhost:8080/",
     "height": 0
    },
    "id": "xOxVHSN0Lsc6",
    "outputId": "61a1893f-77c1-4d8c-f4a3-3c99a1035552"
   },
   "outputs": [
    {
     "data": {
      "text/plain": [
       "Unnamed: 0           0\n",
       "key                  0\n",
       "fare_amount          0\n",
       "pickup_datetime      0\n",
       "pickup_longitude     0\n",
       "pickup_latitude      0\n",
       "dropoff_longitude    1\n",
       "dropoff_latitude     1\n",
       "passenger_count      0\n",
       "dtype: int64"
      ]
     },
     "execution_count": 5,
     "metadata": {},
     "output_type": "execute_result"
    }
   ],
   "source": [
    "data.isnull().sum()"
   ]
  },
  {
   "cell_type": "code",
   "execution_count": 6,
   "metadata": {
    "id": "ozIuN1aYL6uu"
   },
   "outputs": [],
   "source": [
    "data.drop(columns='Unnamed: 0',inplace=True)"
   ]
  },
  {
   "cell_type": "code",
   "execution_count": 7,
   "metadata": {
    "id": "TAbbGuHaMFY3"
   },
   "outputs": [],
   "source": [
    "data=data.dropna()"
   ]
  },
  {
   "cell_type": "code",
   "execution_count": 8,
   "metadata": {
    "id": "7Qxs22pQMHvK"
   },
   "outputs": [
    {
     "data": {
      "text/plain": [
       "'\\ndata = data[data[\\'fare_amount\\'] > 0]:\\n\\nThis line filters the dataset to remove rows where the \\'fare_amount\\' is less than or equal to 0. It eliminates any rows with non-positive fare amounts.\\ndata[\"pickup_datetime\"] = data[\"pickup_datetime\"].apply(lambda x: [x[0:10] for x in x.split(\\' \\')]):\\n\\nThis line appears to split the \\'pickup_datetime\\' column and keep only the date portion (first 10 characters) of each datetime value. This can be useful for analyzing trends or patterns based on dates.\\ndata[\"pickup_datetime\"] = data[\"pickup_datetime\"].apply(lambda x: x[0]):\\n\\nThis line seems to extract the first character from the date string, which corresponds to the year. It converts the date into the year portion.\\ndata[\"pickup_datetime\"] = pd.DatetimeIndex(data[\"pickup_datetime\"]).year:\\n\\nThis line is attempting to convert the \\'pickup_datetime\\' column into a datetime object and extract the year.\\n'"
      ]
     },
     "execution_count": 8,
     "metadata": {},
     "output_type": "execute_result"
    }
   ],
   "source": [
    "data = data[data['fare_amount']> 0]\n",
    "data[\"pickup_datetime\"] = data[\"pickup_datetime\"].apply(lambda x:[x[0:10] for x in x.split(' ')])\n",
    "data['pickup_datetime'] = data['pickup_datetime'].apply(lambda x:x[0])\n",
    "data['pickup_datetime'] = pd.DatetimeIndex(data['pickup_datetime']).year\n",
    "\n",
    "'''\n",
    "data = data[data['fare_amount'] > 0]:\n",
    "\n",
    "This line filters the dataset to remove rows where the 'fare_amount' is less than or equal to 0. It eliminates any rows with non-positive fare amounts.\n",
    "data[\"pickup_datetime\"] = data[\"pickup_datetime\"].apply(lambda x: [x[0:10] for x in x.split(' ')]):\n",
    "\n",
    "This line appears to split the 'pickup_datetime' column and keep only the date portion (first 10 characters) of each datetime value. This can be useful for analyzing trends or patterns based on dates.\n",
    "data[\"pickup_datetime\"] = data[\"pickup_datetime\"].apply(lambda x: x[0]):\n",
    "\n",
    "This line seems to extract the first character from the date string, which corresponds to the year. It converts the date into the year portion.\n",
    "data[\"pickup_datetime\"] = pd.DatetimeIndex(data[\"pickup_datetime\"]).year:\n",
    "\n",
    "This line is attempting to convert the 'pickup_datetime' column into a datetime object and extract the year.\n",
    "'''"
   ]
  },
  {
   "cell_type": "code",
   "execution_count": 9,
   "metadata": {
    "id": "a6wCGBzHTSZd"
   },
   "outputs": [],
   "source": [
    "data.drop(columns=['key','pickup_datetime'],inplace=True)"
   ]
  },
  {
   "cell_type": "code",
   "execution_count": 10,
   "metadata": {
    "id": "GW8g_ZcjTd4C"
   },
   "outputs": [],
   "source": [
    "X = data.drop(['fare_amount'],axis=1)\n",
    "y = data['fare_amount']\n",
    "x_train,x_test,y_train,y_test = train_test_split(X,y,test_size=0.25,random_state=0)"
   ]
  },
  {
   "cell_type": "code",
   "execution_count": 11,
   "metadata": {
    "colab": {
     "base_uri": "https://localhost:8080/",
     "height": 237
    },
    "id": "zFtLU-NgT3Pb",
    "outputId": "82062559-f000-440e-a471-6e0b191a47bd"
   },
   "outputs": [
    {
     "data": {
      "text/html": [
       "<div>\n",
       "<style scoped>\n",
       "    .dataframe tbody tr th:only-of-type {\n",
       "        vertical-align: middle;\n",
       "    }\n",
       "\n",
       "    .dataframe tbody tr th {\n",
       "        vertical-align: top;\n",
       "    }\n",
       "\n",
       "    .dataframe thead th {\n",
       "        text-align: right;\n",
       "    }\n",
       "</style>\n",
       "<table border=\"1\" class=\"dataframe\">\n",
       "  <thead>\n",
       "    <tr style=\"text-align: right;\">\n",
       "      <th></th>\n",
       "      <th>fare_amount</th>\n",
       "      <th>pickup_longitude</th>\n",
       "      <th>pickup_latitude</th>\n",
       "      <th>dropoff_longitude</th>\n",
       "      <th>dropoff_latitude</th>\n",
       "      <th>passenger_count</th>\n",
       "    </tr>\n",
       "  </thead>\n",
       "  <tbody>\n",
       "    <tr>\n",
       "      <th>fare_amount</th>\n",
       "      <td>1.000000</td>\n",
       "      <td>0.010468</td>\n",
       "      <td>-0.008489</td>\n",
       "      <td>0.009208</td>\n",
       "      <td>-0.011250</td>\n",
       "      <td>0.010422</td>\n",
       "    </tr>\n",
       "    <tr>\n",
       "      <th>pickup_longitude</th>\n",
       "      <td>0.010468</td>\n",
       "      <td>1.000000</td>\n",
       "      <td>-0.816434</td>\n",
       "      <td>0.833132</td>\n",
       "      <td>-0.846449</td>\n",
       "      <td>-0.000488</td>\n",
       "    </tr>\n",
       "    <tr>\n",
       "      <th>pickup_latitude</th>\n",
       "      <td>-0.008489</td>\n",
       "      <td>-0.816434</td>\n",
       "      <td>1.000000</td>\n",
       "      <td>-0.774880</td>\n",
       "      <td>0.702450</td>\n",
       "      <td>-0.001500</td>\n",
       "    </tr>\n",
       "    <tr>\n",
       "      <th>dropoff_longitude</th>\n",
       "      <td>0.009208</td>\n",
       "      <td>0.833132</td>\n",
       "      <td>-0.774880</td>\n",
       "      <td>1.000000</td>\n",
       "      <td>-0.916971</td>\n",
       "      <td>-0.000104</td>\n",
       "    </tr>\n",
       "    <tr>\n",
       "      <th>dropoff_latitude</th>\n",
       "      <td>-0.011250</td>\n",
       "      <td>-0.846449</td>\n",
       "      <td>0.702450</td>\n",
       "      <td>-0.916971</td>\n",
       "      <td>1.000000</td>\n",
       "      <td>-0.000514</td>\n",
       "    </tr>\n",
       "    <tr>\n",
       "      <th>passenger_count</th>\n",
       "      <td>0.010422</td>\n",
       "      <td>-0.000488</td>\n",
       "      <td>-0.001500</td>\n",
       "      <td>-0.000104</td>\n",
       "      <td>-0.000514</td>\n",
       "      <td>1.000000</td>\n",
       "    </tr>\n",
       "  </tbody>\n",
       "</table>\n",
       "</div>"
      ],
      "text/plain": [
       "                   fare_amount  pickup_longitude  pickup_latitude  \\\n",
       "fare_amount           1.000000          0.010468        -0.008489   \n",
       "pickup_longitude      0.010468          1.000000        -0.816434   \n",
       "pickup_latitude      -0.008489         -0.816434         1.000000   \n",
       "dropoff_longitude     0.009208          0.833132        -0.774880   \n",
       "dropoff_latitude     -0.011250         -0.846449         0.702450   \n",
       "passenger_count       0.010422         -0.000488        -0.001500   \n",
       "\n",
       "                   dropoff_longitude  dropoff_latitude  passenger_count  \n",
       "fare_amount                 0.009208         -0.011250         0.010422  \n",
       "pickup_longitude            0.833132         -0.846449        -0.000488  \n",
       "pickup_latitude            -0.774880          0.702450        -0.001500  \n",
       "dropoff_longitude           1.000000         -0.916971        -0.000104  \n",
       "dropoff_latitude           -0.916971          1.000000        -0.000514  \n",
       "passenger_count            -0.000104         -0.000514         1.000000  "
      ]
     },
     "execution_count": 11,
     "metadata": {},
     "output_type": "execute_result"
    }
   ],
   "source": [
    "data.corr()"
   ]
  },
  {
   "cell_type": "markdown",
   "metadata": {
    "id": "ESiZg1NiT8Am"
   },
   "source": [
    "**OUTLIER DETECTION**"
   ]
  },
  {
   "cell_type": "code",
   "execution_count": 12,
   "metadata": {
    "colab": {
     "base_uri": "https://localhost:8080/",
     "height": 447
    },
    "id": "-E43oI7nT4_6",
    "outputId": "c8372bfc-5f52-4566-e734-9deb23768457"
   },
   "outputs": [
    {
     "data": {
      "text/plain": [
       "<AxesSubplot:xlabel='fare_amount'>"
      ]
     },
     "execution_count": 12,
     "metadata": {},
     "output_type": "execute_result"
    },
    {
     "data": {
      "image/png": "[encoded data removed]",
      "text/plain": [
       "<Figure size 640x480 with 1 Axes>"
      ]
     },
     "metadata": {},
     "output_type": "display_data"
    }
   ],
   "source": [
    "sns.boxplot(data['fare_amount'])"
   ]
  },
  {
   "cell_type": "code",
   "execution_count": 13,
   "metadata": {
    "colab": {
     "base_uri": "https://localhost:8080/",
     "height": 0
    },
    "id": "wMy3_C1TUDS3",
    "outputId": "d4dc4de5-97bb-43ff-910f-d3c75d9b72e9"
   },
   "outputs": [
    {
     "name": "stdout",
     "output_type": "stream",
     "text": [
      "6.0 12.5\n"
     ]
    }
   ],
   "source": [
    "#removing the outlier\n",
    "Q1 = np.percentile(data['fare_amount'], 25, interpolation = 'midpoint')\n",
    "Q3 = np.percentile(data['fare_amount'],75, interpolation='midpoint')\n",
    "print(Q1,Q3)"
   ]
  },
  {
   "cell_type": "markdown",
   "metadata": {
    "id": "XnbiT9rfUy_9"
   },
   "source": [
    "**Outlier Treatment**"
   ]
  },
  {
   "cell_type": "code",
   "execution_count": 14,
   "metadata": {
    "id": "5JofNhtgUdvh"
   },
   "outputs": [],
   "source": [
    "data.drop(data[data['fare_amount'].values>12.5].index, inplace=True)"
   ]
  },
  {
   "cell_type": "code",
   "execution_count": 15,
   "metadata": {
    "colab": {
     "base_uri": "https://localhost:8080/",
     "height": 447
    },
    "id": "RcilXdDwU-Iv",
    "outputId": "34a9417b-9034-4efd-e1b1-d1a80691ccc3"
   },
   "outputs": [
    {
     "data": {
      "text/plain": [
       "<AxesSubplot:xlabel='fare_amount'>"
      ]
     },
     "execution_count": 15,
     "metadata": {},
     "output_type": "execute_result"
    },
    {
     "data": {
      "image/png": "[encoded data removed]",
      "text/plain": [
       "<Figure size 640x480 with 1 Axes>"
      ]
     },
     "metadata": {},
     "output_type": "display_data"
    }
   ],
   "source": [
    "sns.boxplot(data['fare_amount'])"
   ]
  },
  {
   "cell_type": "markdown",
   "metadata": {
    "id": "LKCZ8pesVCw5"
   },
   "source": [
    "**LINEAR REGRESSION**"
   ]
  },
  {
   "cell_type": "code",
   "execution_count": 16,
   "metadata": {
    "id": "pgaUVHnqVBAY"
   },
   "outputs": [],
   "source": [
    "linear_model = LinearRegression()\n",
    "linear_model.fit(x_train,y_train)\n",
    "y_pred = linear_model.predict(x_test)"
   ]
  },
  {
   "cell_type": "code",
   "execution_count": 17,
   "metadata": {
    "colab": {
     "base_uri": "https://localhost:8080/",
     "height": 0
    },
    "id": "hkxcDvUzVWTi",
    "outputId": "bff9a34c-c361-46ad-b9bc-53d33d57ded1"
   },
   "outputs": [
    {
     "name": "stdout",
     "output_type": "stream",
     "text": [
      "Linear Regression RMSE: 9.82\n",
      "Linear Regression R-squared (R2): 0.00\n"
     ]
    }
   ],
   "source": [
    "from math import sqrt\n",
    "\n",
    "def evaluate_model(y_true, y_pred, model_name):\n",
    "  rmse = sqrt(mean_squared_error(y_true,y_pred))\n",
    "  r2 = r2_score(y_true,y_pred)\n",
    "  print(f\"{model_name} RMSE: {rmse:.2f}\")\n",
    "  print(f\"{model_name} R-squared (R2): {r2:.2f}\")\n",
    "\n",
    "evaluate_model(y_test,y_pred,\"Linear Regression\")\n"
   ]
  },
  {
   "cell_type": "markdown",
   "metadata": {
    "id": "wxnIKvT1Wvts"
   },
   "source": [
    "**RANDOM FOREST**"
   ]
  },
  {
   "cell_type": "code",
   "execution_count": 18,
   "metadata": {
    "id": "YP_NCYSuWfUf"
   },
   "outputs": [],
   "source": [
    "rf_model = RandomForestRegressor(n_estimators=100, random_state=42)\n",
    "rf_model.fit(x_train, y_train)\n",
    "y_pred_rf = rf_model.predict(x_test)"
   ]
  },
  {
   "cell_type": "code",
   "execution_count": 19,
   "metadata": {
    "colab": {
     "base_uri": "https://localhost:8080/",
     "height": 0
    },
    "id": "Yq2wdbiNXNk5",
    "outputId": "5104c638-e02d-42de-903d-a1c461d033ff"
   },
   "outputs": [
    {
     "name": "stdout",
     "output_type": "stream",
     "text": [
      "Random Forest Regression RMSE: 4.93\n",
      "Random Forest Regression R-squared (R2): 0.75\n"
     ]
    }
   ],
   "source": [
    "def evaluate_model(y_true, y_pred, model_name):\n",
    "  rmse = sqrt(mean_squared_error(y_true, y_pred))\n",
    "  r2 = r2_score(y_true, y_pred)\n",
    "  print(f\"{model_name} RMSE: {rmse:.2f}\")\n",
    "  print(f\"{model_name} R-squared (R2): {r2:.2f}\")\n",
    "\n",
    "evaluate_model(y_test,y_pred_rf,\"Random Forest Regression\")"
   ]
  },
  {
   "cell_type": "code",
   "execution_count": null,
   "metadata": {
    "id": "aPRtiremX0Md"
   },
   "outputs": [],
   "source": []
  }
 ],
 "metadata": {
  "colab": {
   "authorship_tag": "ABX9TyPnsrYF3hfTRqOBzu+gxQPV",
   "provenance": []
  },
  "kernelspec": {
   "display_name": "Python 3 (ipykernel)",
   "language": "python",
   "name": "python3"
  },
  "language_info": {
   "codemirror_mode": {
    "name": "ipython",
    "version": 3
   },
   "file_extension": ".py",
   "mimetype": "text/x-python",
   "name": "python",
   "nbconvert_exporter": "python",
   "pygments_lexer": "ipython3",
   "version": "3.9.13"
  }
 },
 "nbformat": 4,
 "nbformat_minor": 1
}
